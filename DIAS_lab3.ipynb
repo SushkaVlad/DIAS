{
 "cells": [
  {
   "cell_type": "code",
   "execution_count": 34,
   "id": "c8ccf140",
   "metadata": {},
   "outputs": [
    {
     "name": "stdout",
     "output_type": "stream",
     "text": [
      "Requirement already satisfied: vk in c:\\anac\\lib\\site-packages (2.0.2)\n",
      "Requirement already satisfied: requests<3.0,>=2.8 in c:\\anac\\lib\\site-packages (from vk) (2.26.0)\n",
      "Requirement already satisfied: charset-normalizer~=2.0.0 in c:\\anac\\lib\\site-packages (from requests<3.0,>=2.8->vk) (2.0.4)\n",
      "Requirement already satisfied: urllib3<1.27,>=1.21.1 in c:\\anac\\lib\\site-packages (from requests<3.0,>=2.8->vk) (1.26.7)\n",
      "Requirement already satisfied: idna<4,>=2.5 in c:\\anac\\lib\\site-packages (from requests<3.0,>=2.8->vk) (3.2)\n",
      "Requirement already satisfied: certifi>=2017.4.17 in c:\\anac\\lib\\site-packages (from requests<3.0,>=2.8->vk) (2021.10.8)\n",
      "Note: you may need to restart the kernel to use updated packages.\n"
     ]
    }
   ],
   "source": [
    "pip install vk"
   ]
  },
  {
   "cell_type": "code",
   "execution_count": 35,
   "id": "fe680359",
   "metadata": {},
   "outputs": [],
   "source": [
    "import requests\n",
    "import pandas as pd\n",
    "import vk\n",
    "import json"
   ]
  },
  {
   "cell_type": "code",
   "execution_count": 36,
   "id": "6ef20600",
   "metadata": {},
   "outputs": [],
   "source": [
    "session = vk.Session(access_token=\"a8a8f18c7ca1d15827f31970e95e83e9b6b01878424faa13275b3d5fe93427c2abbbc7470ce1271c826c0\")\n",
    "api = vk.API(session)\n",
    "response = api.groups.getMembers(group_id=\"iroothelp\", v=\"5.131\", fields=[\"online\"])"
   ]
  },
  {
   "cell_type": "code",
   "execution_count": 37,
   "id": "629fdf44",
   "metadata": {},
   "outputs": [
    {
     "data": {
      "text/plain": [
       "4"
      ]
     },
     "execution_count": 37,
     "metadata": {},
     "output_type": "execute_result"
    }
   ],
   "source": [
    "online_persons = {'count': 0, 'items': []}\n",
    "\n",
    "for person in response['items']:\n",
    "    if person['online']:\n",
    "        online_persons['count'] += 1\n",
    "        online_persons['items'].append(person)\n",
    "        \n",
    "online_persons['count']"
   ]
  },
  {
   "cell_type": "code",
   "execution_count": 39,
   "id": "e5c48630",
   "metadata": {},
   "outputs": [],
   "source": [
    "with open(\"online_persons_response.json\", \"w\", encoding=\"utf-8\") as file:\n",
    "    json.dump(online_persons, file, ensure_ascii=False, indent=4)"
   ]
  },
  {
   "cell_type": "code",
   "execution_count": 40,
   "id": "b07ce138",
   "metadata": {},
   "outputs": [],
   "source": [
    "response_all = api.groups.getMembers(group_id=\"iroothelp\", v=\"5.131\")\n",
    "\n",
    "with open(\"all_persons_ids_response.json\", \"w\", encoding=\"utf-8\") as file:\n",
    "    json.dump(response_all, file, ensure_ascii=False, indent=4)"
   ]
  },
  {
   "cell_type": "code",
   "execution_count": 41,
   "id": "5be1211f",
   "metadata": {},
   "outputs": [],
   "source": [
    "wall=api.wall.get(domain=\"iroothelp\", v=\"5.131\", count=5)\n",
    "\n",
    "with open(\"wall_response.json\", \"w\", encoding=\"utf-8\") as file:\n",
    "    json.dump(wall, file, ensure_ascii=False, indent=4)"
   ]
  },
  {
   "cell_type": "code",
   "execution_count": 42,
   "id": "1f42d64f",
   "metadata": {},
   "outputs": [],
   "source": [
    "friends_response= api.groups.getMembers(group_id=\"iroothelp\", v=\"5.131\", fields=[\"online\"], filter=[\"friends\"])\n",
    "with open(\"friends_online_response.json\", \"w\", encoding=\"utf-8\") as file:\n",
    "    json.dump(friends_response, file, ensure_ascii=False, indent=4)"
   ]
  }
 ],
 "metadata": {
  "kernelspec": {
   "display_name": "Python 3 (ipykernel)",
   "language": "python",
   "name": "python3"
  },
  "language_info": {
   "codemirror_mode": {
    "name": "ipython",
    "version": 3
   },
   "file_extension": ".py",
   "mimetype": "text/x-python",
   "name": "python",
   "nbconvert_exporter": "python",
   "pygments_lexer": "ipython3",
   "version": "3.9.7"
  }
 },
 "nbformat": 4,
 "nbformat_minor": 5
}
